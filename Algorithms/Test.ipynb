{
 "metadata": {
  "language_info": {
   "codemirror_mode": {
    "name": "ipython",
    "version": 3
   },
   "file_extension": ".py",
   "mimetype": "text/x-python",
   "name": "python",
   "nbconvert_exporter": "python",
   "pygments_lexer": "ipython3",
   "version": "3.7.4"
  },
  "orig_nbformat": 2,
  "kernelspec": {
   "name": "python374jvsc74a57bd065a6d79e417555a4f2d40fc0d58649d3eb288418d1360c622f1fc6356abc1222",
   "display_name": "Python 3.7.4 64-bit ('base': conda)"
  },
  "metadata": {
   "interpreter": {
    "hash": "f5f96ccdd520788c4dd9c4b71bd6ba74b4bec9d7df798f9258ad50142447031f"
   }
  }
 },
 "nbformat": 4,
 "nbformat_minor": 2,
 "cells": [
  {
   "cell_type": "code",
   "execution_count": 3,
   "metadata": {},
   "outputs": [],
   "source": [
    "from random import randint"
   ]
  },
  {
   "cell_type": "code",
   "execution_count": 6,
   "metadata": {},
   "outputs": [],
   "source": [
    "def Partition(A, p, r):\n",
    "    x = A[r]\n",
    "    i = p-1\n",
    "    for j in range(p, r):\n",
    "        if A[j]<=x:\n",
    "            i+=1\n",
    "            A[i], A[j] = A[j], A[i]\n",
    "    A[i+1], A[r] = A[r], A[i+1]\n",
    "    return i+1\n",
    "def RandomizedPartition(A, p, r):\n",
    "    i = randint(p, r)\n",
    "    A[r], A[i] = A[i], A[r]\n",
    "    return Partition(A, p, r)\n",
    "def RandomizedSelect(A,p, r, i):\n",
    "    if p==r:\n",
    "        return A[p]\n",
    "    q = RandomizedPartition(A, p, r)\n",
    "    k = q-p+1\n",
    "    if i==k:\n",
    "        return A[q]\n",
    "    elif i<k:\n",
    "        return RandomizedSelect(A, p, q-1, i)\n",
    "    else:\n",
    "        return RandomizedSelect(A, q+1, r, i-k)"
   ]
  },
  {
   "cell_type": "code",
   "execution_count": 49,
   "metadata": {},
   "outputs": [
    {
     "output_type": "stream",
     "name": "stdout",
     "text": [
      "1\n2\n3\n4\n4\n5\n6\n7\n"
     ]
    }
   ],
   "source": [
    "A = [2, 8, 7, 1, 3, 5, 6, 4, 4]\n",
    "# A = [2, 5, 3, 0, 2, 3, 0, 3]\n",
    "for i in range(1, len(A)):\n",
    "    print(RandomizedSelect(A, 0, len(A)-1, i))"
   ]
  },
  {
   "cell_type": "code",
   "execution_count": 4,
   "metadata": {},
   "outputs": [
    {
     "output_type": "stream",
     "name": "stdout",
     "text": [
      "25\n"
     ]
    }
   ],
   "source": [
    "def CutRod(p, n):\n",
    "    if n==0:\n",
    "        return 0\n",
    "    q = float('-inf')\n",
    "    for i in range(1, n+1):\n",
    "        q = max(q, p[i-1]+CutRod(p, n-i))\n",
    "    return q\n",
    "\n",
    "a = [1, 5, 8, 9, 10, 17, 17, 20, 24, 30]\n",
    "print(CutRod(a, 9))"
   ]
  },
  {
   "cell_type": "code",
   "execution_count": 26,
   "metadata": {},
   "outputs": [],
   "source": [
    "from bisect import *\n",
    "def maximumSum(a):\n",
    "    # Write your code here\n",
    "    sumup = []\n",
    "    s = 0\n",
    "    mx = 0\n",
    "    mn = float('inf')\n",
    "    for i in range(len(a)):\n",
    "        s = (a[i]+s)\n",
    "        mn = min(mn, s)\n",
    "        mx = max(mx, s, s-mn)\n",
    "    return mx"
   ]
  },
  {
   "cell_type": "code",
   "execution_count": 27,
   "metadata": {},
   "outputs": [
    {
     "output_type": "execute_result",
     "data": {
      "text/plain": [
       "5"
      ]
     },
     "metadata": {},
     "execution_count": 27
    }
   ],
   "source": [
    "maximumSum([1, -1, -1, -1, -1, 5])"
   ]
  }
 ]
}